{
 "cells": [
  {
   "cell_type": "code",
   "execution_count": null,
   "metadata": {
    "collapsed": true
   },
   "outputs": [],
   "source": [
    "najdSub = \"\"\n",
    "trenSub = \"\"\n",
    "for i in s:\n",
    "    if len(trenSub) <1 or trenSub[-1] <= i:\n",
    "        trenSub += i\n",
    "    if trenSub[-1] > i:\n",
    "        if len(trenSub) > len(najdSub):\n",
    "            najdSub = trenSub\n",
    "        trenSub = i\n",
    "    if len(trenSub) > len(najdSub):\n",
    "        najdSub = trenSub\n",
    "print \"Longest substring in alphabetical order is:\", najdSub"
   ]
  }
 ],
 "metadata": {
  "kernelspec": {
   "display_name": "Python 2",
   "language": "python",
   "name": "python2"
  },
  "language_info": {
   "codemirror_mode": {
    "name": "ipython",
    "version": 2
   },
   "file_extension": ".py",
   "mimetype": "text/x-python",
   "name": "python",
   "nbconvert_exporter": "python",
   "pygments_lexer": "ipython2",
   "version": "2.7.11"
  }
 },
 "nbformat": 4,
 "nbformat_minor": 0
}
