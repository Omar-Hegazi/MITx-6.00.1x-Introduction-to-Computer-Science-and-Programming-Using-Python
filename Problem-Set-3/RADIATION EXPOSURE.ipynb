{
 "cells": [
  {
   "cell_type": "code",
   "execution_count": 1,
   "metadata": {
    "collapsed": false
   },
   "outputs": [
    {
     "name": "stdout",
     "output_type": "stream",
     "text": [
      "39.1031878433\n",
      "22.9424104106\n",
      "62.0455982538\n",
      "0.434612356115\n"
     ]
    }
   ],
   "source": [
    "def f(x):\n",
    "    import math\n",
    "    return 10*math.e**(math.log(0.5)/5.27 * x)\n",
    "\n",
    "def radiationExposure(start, stop, step):\n",
    "    '''\n",
    "    Computes and returns the amount of radiation exposed\n",
    "    to between the start and stop times. Calls the\n",
    "    function f (defined for you in the grading script)\n",
    "    to obtain the value of the function at any point.\n",
    "\n",
    "    start: integer, the time at which exposure begins\n",
    "    stop: integer, the time at which exposure ends\n",
    "    step: float, the width of each rectangle. You can assume that\n",
    "      the step size will always partition the space evenly.\n",
    "\n",
    "    returns: float, the amount of radiation exposed to\n",
    "      between start and stop times.\n",
    "    '''\n",
    "    rez = 0\n",
    "    while start < stop:\n",
    "        rez += f(start)*step\n",
    "        start += step\n",
    "    return rez\n",
    "\n",
    "### Test cases::::\n",
    "\n",
    "#Test case 1:\n",
    "#radiationExposure(0, 5, 1)\n",
    "\n",
    "#Test case 2:\n",
    "#radiationExposure(5, 11, 1)\n",
    "\n",
    "#Test case 3:\n",
    "#radiationExposure(0, 11, 1)\n",
    "\n",
    "#Test case 4:\n",
    "#radiationExposure(40, 100, 1.5)"
   ]
  }
 ],
 "metadata": {
  "kernelspec": {
   "display_name": "Python 2",
   "language": "python",
   "name": "python2"
  },
  "language_info": {
   "codemirror_mode": {
    "name": "ipython",
    "version": 2
   },
   "file_extension": ".py",
   "mimetype": "text/x-python",
   "name": "python",
   "nbconvert_exporter": "python",
   "pygments_lexer": "ipython2",
   "version": "2.7.11"
  }
 },
 "nbformat": 4,
 "nbformat_minor": 0
}
