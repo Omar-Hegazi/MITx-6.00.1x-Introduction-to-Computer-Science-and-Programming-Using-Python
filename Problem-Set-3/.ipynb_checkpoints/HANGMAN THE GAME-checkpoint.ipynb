{
 "cells": [
  {
   "cell_type": "code",
   "execution_count": null,
   "metadata": {
    "collapsed": true
   },
   "outputs": [],
   "source": [
    "def hangman(secretWord):\n",
    "    '''\n",
    "    secretWord: string, the secret word to guess.\n",
    "\n",
    "    Starts up an interactive game of Hangman.\n",
    "\n",
    "    * At the start of the game, let the user know how many\n",
    "      letters the secretWord contains.\n",
    "\n",
    "    * Ask the user to supply one guess (i.e. letter) per round.\n",
    "\n",
    "    * The user should receive feedback immediately after each guess\n",
    "      about whether their guess appears in the computers word.\n",
    "\n",
    "    * After each round, you should also display to the user the\n",
    "      partially guessed word so far, as well as letters that the\n",
    "      user has not yet guessed.\n",
    "\n",
    "    Follows the other limitations detailed in the problem write-up.\n",
    "    '''\n",
    "    # FILL IN YOUR CODE HERE...\n",
    "    #loadWords()\n",
    "    print \"Welcome to the game, Hangman!\"\n",
    "    print \"I am thinking of a word that is\", len(secretWord), \"letters long.\"\n",
    "    brPogodaka = 8\n",
    "    lettersGuessed = []\n",
    "    def uniqueLen(rijec):\n",
    "        unL = \"\"\n",
    "        for i in rijec:\n",
    "            if i not in unL:\n",
    "                unL += i\n",
    "        return unL\n",
    "    while brPogodaka > 0:\n",
    "        print \"------------\"\n",
    "        print \"You have\", brPogodaka, \"guesses left\"\n",
    "        print \"Available letters:\", getAvailableLetters(lettersGuessed)\n",
    "        slovo = raw_input(\"Please guess a letter: \")\n",
    "        slovo = slovo.lower()\n",
    "        if slovo in lettersGuessed:\n",
    "            print \"Oops! You've already guessed that letter:\", getGuessedWord(secretWord, lettersGuessed)\n",
    "        else:\n",
    "            lettersGuessed.append(slovo)\n",
    "            if slovo in secretWord:\n",
    "                print \"Good guess:\", getGuessedWord(secretWord, lettersGuessed)\n",
    "                if isWordGuessed(uniqueLen(secretWord), lettersGuessed):\n",
    "                    print \"------------\"\n",
    "                    print \"Congratulations, you won!\"\n",
    "                    break\n",
    "            else:\n",
    "                brPogodaka -= 1\n",
    "                print \"Oops! That letter is not in my word:\", getGuessedWord(secretWord, lettersGuessed)\n",
    "    if not isWordGuessed(uniqueLen(secretWord), lettersGuessed):\n",
    "        print \"------------\"\n",
    "        print \"Sorry, you ran out of guesses. The word was\", secretWord+\".\""
   ]
  }
 ],
 "metadata": {
  "kernelspec": {
   "display_name": "Python 3",
   "language": "python",
   "name": "python3"
  },
  "language_info": {
   "codemirror_mode": {
    "name": "ipython",
    "version": 3
   },
   "file_extension": ".py",
   "mimetype": "text/x-python",
   "name": "python",
   "nbconvert_exporter": "python",
   "pygments_lexer": "ipython3",
   "version": "3.5.1"
  }
 },
 "nbformat": 4,
 "nbformat_minor": 0
}
