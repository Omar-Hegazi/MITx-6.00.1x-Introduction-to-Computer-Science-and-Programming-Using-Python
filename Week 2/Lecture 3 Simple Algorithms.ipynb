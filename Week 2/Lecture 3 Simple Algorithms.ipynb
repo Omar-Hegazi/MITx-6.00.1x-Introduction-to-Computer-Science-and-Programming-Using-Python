{
 "cells": [
  {
   "cell_type": "markdown",
   "metadata": {},
   "source": [
    "# L3 Problem 1\n",
    "### Below are some short Python programs. For each program, answer the associated question. Try to answer the questions without running the code. Check your answers, then run the code for the ones you get wrong. This question is going to ask you what some simple loops print out. If you're asked what code like this prints: num = 5; if num > 2: print num num -= 1 print num. write what it prints out, separating what appears on a new line by a comma and a space. So the answer for the above code would be: 5, 4. If a given loop will not terminate, write the phrase 'infinite loop' (no quotes) in the box.\n",
    "1.  num = 0; while num <= 5: print num num += 1 print \"Outside of loop\" print num \n",
    "    - 0, 1, 2, 3, 4, 5, Outside of loop, 6\n",
    "2. numberOfLoops = 0; numberOfApples = 2; while numberOfLoops < 10: numberOfApples *= 2 numberOfApples += numberOfLoops numberOfLoops -= 1 print \"Number of apples: \" + str(numberOfApples)\n",
    "    - infinite loop\n",
    "3. num = 10; while num > 3: num -= 1 print num \n",
    "    - 9, 8, 7, 6, 5, 4, 3\n",
    "4. num = 10; while True: if num < 7: print 'Breaking out of loop' break print num num -= 1 print 'Outside of loop' \n",
    "    - 10, 9, 8, 7,  Breaking out of loop, Outside of loop\n",
    "5. num = 100 while not False: if num < 0: break print 'num is: ' + str(num) \n",
    "    - infinite loop"
   ]
  },
  {
   "cell_type": "markdown",
   "metadata": {},
   "source": [
    "# L3 Problem 2a\n",
    "### In this problem you'll be given a chance to practice writing some while loops.\n",
    "1. Convert the following into code that uses a while loop.\n",
    "print 2\n",
    "print 4\n",
    "print 6\n",
    "print 8\n",
    "print 10\n",
    "print Goodbye!"
   ]
  },
  {
   "cell_type": "code",
   "execution_count": 1,
   "metadata": {
    "collapsed": false
   },
   "outputs": [
    {
     "name": "stdout",
     "output_type": "stream",
     "text": [
      "2\n",
      "4\n",
      "6\n",
      "8\n",
      "10\n",
      "Goodbye!\n"
     ]
    }
   ],
   "source": [
    "x = 0\n",
    "\n",
    "while x < 10:\n",
    "    x += 2\n",
    "    print x\n",
    "print \"Goodbye!\""
   ]
  },
  {
   "cell_type": "markdown",
   "metadata": {},
   "source": [
    "# L3 Problem 3\n",
    "## Below are some short Python programs. For each program, answer the associated questions. Try to answer the questions without running the code. Check your answers, then run the code for the ones you get wrong. You'll learn the most this way, by figuring things out, instead of just running the code and reading off the answers. myStr = '6.00x'; for char in myStr: print char print 'done' \n",
    "1. How many times does 6 print out?\n",
    "    - 1\n",
    "2. How many times does . print out?\n",
    "    - 1\n",
    "3. How many times does 0 print out?\n",
    "    - 2\n",
    "4. How many times does x print out?\n",
    "    - 1\n",
    "5. How many times does done print out?\n",
    "    - 1\n",
    "\n",
    "### greeting = 'Hello!'; count = 0; for letter in greeting: count += 1 if count % 2 == 0: print letter print letter print 'done'\n",
    "1. How many times does H print out?\n",
    "    - 1\n",
    "2. How many times does e print out? Disregard the letters in the word done.\n",
    "    - 2\n",
    "3. How many times does l print out?\n",
    "    - 3\n",
    "4. How many times does o print out? Disregard the letters in the word done.\n",
    "    - 1\n",
    "5. How many times does ! print out?\n",
    "    - 2\n",
    "6. How many times does done print out?\n",
    "    - 1\n",
    "    \n",
    "### school = 'Massachusetts Institute of Technology'; numVowels = 0; numCons = 0; for char in school: if char == 'a' or char == 'e' or char == 'i' \\ or char == 'o' or char == 'u': numVowels += 1 elif char == 'o' or char == 'M': print char else: numCons -= 1 print 'numVowels is: ' + str(numVowels) print 'numCons is: ' + str(numCons) \n",
    "1. How many times does o print out? Disregard the o's in last two print statements.\n",
    "    - 0\n",
    "2. How many times does M print out?\n",
    "    - 1\n",
    "3. What will the value of the variable numVowels be?\n",
    "    - 11\n",
    "4. What will the value of the variable numCons be? \n",
    "    - 25\n"
   ]
  },
  {
   "cell_type": "markdown",
   "metadata": {},
   "source": [
    "# L3 Problem 4\n",
    "### Below are some short Python programs. For each program, answer the associated question. Try to answer the questions without running the code. Check your answers, then run the code for the ones you get wrong. This question is going to ask you what some simple loops print out. If you're asked what code like this prints: num = 5; if num > 2: print num num -= 1 print num. write what it prints out, separating what appears on a new line by a comma and a space. So the answer for the above code would be: 5, 4. If a given loop will not terminate, write the phrase 'infinite loop' in the box.\n",
    "1. num = 10; for num in range(5): print num print num \n",
    "    - 0, 1, 2, 3, 4, 4\n",
    "2. divisor = 2; for num in range(0, 10, 2): print num/divisor \n",
    "    - 0, 1, 2, 3, 4\n",
    "3. for variable in range(20): if variable % 4 == 0: print variable if variable % 16 == 0: print 'Foo!'\n",
    "    - 0, Foo!, 4, 8, 12, 16, Foo!\n",
    "4. for letter in 'hola': print letter  \n",
    "    - h, o, l, a\n",
    "5. count = 0; for letter in 'Snow!': print 'Letter # ' + str(count) + ' is ' + str(letter) count += 1 break print count \n",
    "    - Letter # 0 is S, 1"
   ]
  },
  {
   "cell_type": "markdown",
   "metadata": {},
   "source": [
    "# L3 Problem 5a\n",
    "### In this problem you'll be given a chance to practice writing some for loops.\n",
    "1. Convert the following code into code that uses a for loop.\n",
    "print 2\n",
    "print 4\n",
    "print 6\n",
    "print 8\n",
    "print 10\n",
    "print \"Goodbye!\""
   ]
  },
  {
   "cell_type": "code",
   "execution_count": 2,
   "metadata": {
    "collapsed": false
   },
   "outputs": [
    {
     "name": "stdout",
     "output_type": "stream",
     "text": [
      "2\n",
      "4\n",
      "6\n",
      "8\n",
      "10\n",
      "Goodbye!\n"
     ]
    }
   ],
   "source": [
    "for i in range(2,11,2):\n",
    "    print i\n",
    "\n",
    "print \"Goodbye!\""
   ]
  },
  {
   "cell_type": "markdown",
   "metadata": {},
   "source": [
    "# L3 Problem 6\n",
    "### Below are some short Python programs. For each program, answer the associated questions. Try to answer the questions without running the code. Check your answers, then run the code for the ones you get wrong. iteration = 0; count = 0; while iteration < 5: # the variable 'letter' in the loop stands for every  # character, including spaces and commas!; for letter in \"hello, world\":  count += 1 print \"Iteration \" + str(iteration) + \"; count is: \" + str(count) iteration += 1 \n",
    "1. What is the value of the variable count that is printed out (at the print statement) on iteration 0?\n",
    "    - 12\n",
    "2. What is the value of the variable count that is printed out (at the print statement) on iteration 1?\n",
    "    - 24\n",
    "3. What is the value of the variable count that is printed out (at the print statement) on iteration 2?\n",
    "    - 36\n",
    "4. What is the value of the variable count that is printed out (at the print statement) on iteration 3?\n",
    "    - 48\n",
    "5. What is the value of the variable count that is printed out (at the print statement) on iteration 4?\n",
    "    - 30\n",
    "### iteration = 0; while iteration < 5: count = 0 for letter in \"hello, world\": count += 1 print \"Iteration \" + str(iteration) + \"; count is: \" + str(count) iteration += 1 \n",
    "1. What is the value of the variable count that is printed out (at the print statement) on iteration 0?\n",
    "    -12 \n",
    "2. What is the value of the variable count that is printed out (at the print statement) on iteration 1?\n",
    "    - 12\n",
    "3. What is the value of the variable count that is printed out (at the print statement) on iteration 2?\n",
    "    - 12\n",
    "4. What is the value of the variable count that is printed out (at the print statement) on iteration 3?\n",
    "    - 12\n",
    "5. What is the value of the variable count that is printed out (at the print statement) on iteration 4?\n",
    "    - 12\n",
    "### iteration = 0; while iteration < 5: count = 0 for letter in \"hello, world\": count += 1 if iteration % 2 == 0: break print \"Iteration \" + str(iteration) + \"; count is: \" + str(count) iteration += 1 \n",
    "1. How many times will the print statement be executed?\n",
    "    - 5\n",
    "2. What is the largest value of the variable iteration that will be printed out (at the print statement)?\n",
    "    - 4\n",
    "3. What is the largest value of the variable count that will be printed out (at the print statement)?\n",
    "    - 12\n",
    "4. What is the smallest value of the variable count that will be printed out (at the print statement)?\n",
    "    - 1"
   ]
  },
  {
   "cell_type": "markdown",
   "metadata": {
    "collapsed": true
   },
   "source": [
    "# L3 Problem 7\n",
    "\n",
    "### Here is the first sample of code from the previous problem:\n",
    "\n",
    "### Code Sample iteration = 0; count = 0; while iteration < 5: for letter in \"hello, world\": count += 1 print \"Iteration \" + str(iteration) + \"; count is: \" + str(count) iteration += 1 . We wish to re-write the above code, but instead of nesting a for loop inside a while loop, we want to nest a while loop inside a for loop. Which of the following loops gives the same output as the Code Sample? Try to answer the following questions by just reading the code. Reading code is a very good skill to have (and will help you both in your programming career and on your 6.00x exams!). It is okay to check your answers that you obtain from just reading the code, then in your interpreter run the code for the ones you got wrong on your first attempt.\n",
    "\n",
    "1. Test 1: for iteration in range(5): count = 0 while True: for letter in \"hello, world\": count += 1 print \"Iteration \" + str(iteration) + \"; count is: \" + str(count)\n",
    "    - No, Test 1 does not give the same output as the Code Sample  \n",
    "2. Test 2: for iteration in range(5): count = 0 while True: for letter in \"hello, world\": count += 1 print \"Iteration \" + str(iteration) + \"; count is: \" + str(count) break\n",
    "    - No, Test 2 does not give the same output as the Code Sample\n",
    "3.  Test 3: count = 0; phrase = \"hello, world\"; for iteration in range(5): index = 0 while index < len(phrase): count += 1 index += 1 print \"Iteration \" + str(iteration) + \"; count is: \" + str(count)\n",
    "    - Yes, Test 3 gives the same output as the Code Sample\n",
    "4. Test 4: count = 0; phrase = \"hello, world\"; for iteration in range(5): while True: count += len(phrase) break print \"Iteration \" + str(iteration) + \"; count is: \" + str(count)\n",
    "    - Yes, Test 4 gives the same output as the Code Sample \n",
    "5. Test 5: count = 0; phrase = \"hello, world\"; for iteration in range(5): count += len(phrase) print \"Iteration \" + str(iteration) + \"; count is: \" + str(count)\n",
    "    - Yes, Test 4 gives the same output as the Code Sample "
   ]
  },
  {
   "cell_type": "markdown",
   "metadata": {},
   "source": [
    "# L3 Problem 8\n",
    "1. Select the answer that best describes what occurs when the above code is executed:\n",
    "    - Script enters an infinite loop and never terminates \n",
    "2. Select the answer that best describes what occurs when the above code is executed:\n",
    "    - Script successfully completes, and prints out succeeded: 5.0 \n",
    "3. Finally, let's use the same code as immediately above, but change the first line to x = 23. Note that the square root of 23 is roughly 4.7958. Select the answer that best describes what occurs when the modified code is executed:\n",
    "    - Script successfully completes, but prints out failed"
   ]
  },
  {
   "cell_type": "markdown",
   "metadata": {},
   "source": [
    "# L3 Problem 9"
   ]
  },
  {
   "cell_type": "code",
   "execution_count": 1,
   "metadata": {
    "collapsed": false
   },
   "outputs": [
    {
     "name": "stdout",
     "output_type": "stream",
     "text": [
      "Please think of a number between 0 and 100!\n",
      "Is your secret number50?\n",
      "Enter 'h' to indicate the guess is too high. Enter 'l' to indicate the guess is too low. Enter 'c' to indicate I guessed correctly.h\n",
      "Is your secret number25?\n",
      "Enter 'h' to indicate the guess is too high. Enter 'l' to indicate the guess is too low. Enter 'c' to indicate I guessed correctly.l\n",
      "Is your secret number37?\n",
      "Enter 'h' to indicate the guess is too high. Enter 'l' to indicate the guess is too low. Enter 'c' to indicate I guessed correctly.gg\n",
      "Sorry, I did not understand your input.\n",
      "Is your secret number37?\n",
      "Enter 'h' to indicate the guess is too high. Enter 'l' to indicate the guess is too low. Enter 'c' to indicate I guessed correctly.h\n",
      "Is your secret number31?\n",
      "Enter 'h' to indicate the guess is too high. Enter 'l' to indicate the guess is too low. Enter 'c' to indicate I guessed correctly.l\n",
      "Is your secret number34?\n",
      "Enter 'h' to indicate the guess is too high. Enter 'l' to indicate the guess is too low. Enter 'c' to indicate I guessed correctly.c\n",
      "Game over. Your secret number was: 34\n"
     ]
    }
   ],
   "source": [
    "print \"Please think of a number between 0 and 100!\"\n",
    "#broj = int(raw_input(\"Please think of a number between 0 and 100!\"))\n",
    "dg = 0\n",
    "gg = 100\n",
    "odg = (dg+gg)/2\n",
    "\n",
    "while True:\n",
    "    pogodak = raw_input(\"Is your secret number\" +str(odg) +\"?\" + \"\\nEnter 'h' to indicate the guess is too high. Enter 'l' to indicate the guess is too low. Enter 'c' to indicate I guessed correctly.\")\n",
    "    if pogodak == \"c\":\n",
    "        print \"Game over. Your secret number was: \" +  str(odg)\n",
    "        break\n",
    "    elif pogodak == \"h\":\n",
    "        gg = odg\n",
    "    elif pogodak == \"l\":\n",
    "        dg = odg\n",
    "    else:\n",
    "        print \"Sorry, I did not understand your input.\" \n",
    "        continue\n",
    "    odg = (dg+gg)/2 "
   ]
  }
 ],
 "metadata": {
  "kernelspec": {
   "display_name": "Python 2",
   "language": "python",
   "name": "python2"
  },
  "language_info": {
   "codemirror_mode": {
    "name": "ipython",
    "version": 2
   },
   "file_extension": ".py",
   "mimetype": "text/x-python",
   "name": "python",
   "nbconvert_exporter": "python",
   "pygments_lexer": "ipython2",
   "version": "2.7.11"
  }
 },
 "nbformat": 4,
 "nbformat_minor": 0
}
