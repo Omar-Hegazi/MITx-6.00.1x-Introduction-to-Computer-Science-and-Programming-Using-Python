{
 "cells": [
  {
   "cell_type": "markdown",
   "metadata": {},
   "source": [
    "# L4 Problem 1\n",
    "### Part 1: Function Types\n",
    "1. num\n",
    "2. float\n",
    "3. num\n",
    "4. boolean\n",
    "5. boolean\n",
    "6. NoneType\n",
    "\n",
    "### Part 2: Transcript\n",
    "1. int; 7\n",
    "2. float; -4.2\n",
    "3. int; 9\n",
    "4. float; 4.0\n",
    "5. boolean; True\n",
    "6. boolean; False\n",
    "7. function; function"
   ]
  },
  {
   "cell_type": "markdown",
   "metadata": {},
   "source": [
    "# L4 Problem 2\n",
    "1. int; 3\n",
    "2. int; 3\n",
    "3. function; function\n",
    "4. function; function"
   ]
  },
  {
   "cell_type": "markdown",
   "metadata": {},
   "source": [
    "# L4 Problem 3"
   ]
  },
  {
   "cell_type": "code",
   "execution_count": 1,
   "metadata": {
    "collapsed": true
   },
   "outputs": [],
   "source": [
    "def square(x):\n",
    "    return x*x"
   ]
  },
  {
   "cell_type": "markdown",
   "metadata": {},
   "source": [
    "# L4 Problem 4"
   ]
  },
  {
   "cell_type": "code",
   "execution_count": 2,
   "metadata": {
    "collapsed": true
   },
   "outputs": [],
   "source": [
    "def evalQuadratic(a, b, c, x):\n",
    "    return a*x**2+b*x+c"
   ]
  },
  {
   "cell_type": "markdown",
   "metadata": {},
   "source": [
    "# L4 Problem 5"
   ]
  },
  {
   "cell_type": "code",
   "execution_count": 3,
   "metadata": {
    "collapsed": true
   },
   "outputs": [],
   "source": [
    "def clip(lo, x, hi):\n",
    "    \"\"\"\n",
    "    \"\"\"\n",
    "    return min(hi, max(lo, x))"
   ]
  },
  {
   "cell_type": "markdown",
   "metadata": {},
   "source": [
    "# L4 Problem 6\n",
    "1. int; 4\n",
    "2. int; 19"
   ]
  },
  {
   "cell_type": "markdown",
   "metadata": {},
   "source": [
    "# L4 Problem 7\n",
    "1. 7\n",
    "2. 5"
   ]
  },
  {
   "cell_type": "markdown",
   "metadata": {},
   "source": [
    "# L4 Problem 8"
   ]
  },
  {
   "cell_type": "code",
   "execution_count": 4,
   "metadata": {
    "collapsed": true
   },
   "outputs": [],
   "source": [
    "def fourthPower(x):\n",
    "    return square(square(x))"
   ]
  },
  {
   "cell_type": "markdown",
   "metadata": {},
   "source": [
    "# L4 Problem 9"
   ]
  },
  {
   "cell_type": "code",
   "execution_count": 5,
   "metadata": {
    "collapsed": true
   },
   "outputs": [],
   "source": [
    "def odd(x):\n",
    "    return x % 2 == 1"
   ]
  },
  {
   "cell_type": "markdown",
   "metadata": {},
   "source": [
    "# L4 Problem 10"
   ]
  },
  {
   "cell_type": "code",
   "execution_count": 6,
   "metadata": {
    "collapsed": true
   },
   "outputs": [],
   "source": [
    "def isVowel(char):\n",
    "\n",
    "    while True:\n",
    "        char = char.lower()\n",
    "        return  char == \"a\" or char ==\"e\" or char ==\"i\" or char ==\"o\" or char ==\"u\""
   ]
  },
  {
   "cell_type": "markdown",
   "metadata": {},
   "source": [
    "# L4 Problem 11"
   ]
  },
  {
   "cell_type": "code",
   "execution_count": 7,
   "metadata": {
    "collapsed": true
   },
   "outputs": [],
   "source": [
    "def isVowel2(char):\n",
    "    vovel = [\"a\",\"e\",\"i\",\"o\",\"u\"]\n",
    "    for i in vovel:\n",
    "        if i == char.lower():\n",
    "            break\n",
    "    return i == char.lower()"
   ]
  },
  {
   "cell_type": "markdown",
   "metadata": {},
   "source": [
    "# L4 Problem 12\n",
    "1. function; function\n",
    "2. string; EXTERMINATE!\n",
    "3. string; exterminate!\n",
    "4. boolean; False\n",
    "5. boolean; True\n",
    "6. string; Number one - the larch\n",
    "7. string; nUMBER ONE - THE LARCH\n",
    "8. int; 0\n",
    "9. int; 8\n",
    "10. int; 8\n",
    "11. NoneType; error\n",
    "12. int; -1\n",
    "13. int; 3\n",
    "14. string; *xt*rminat*!\n",
    "15. string; Number seven - the larch"
   ]
  }
 ],
 "metadata": {
  "kernelspec": {
   "display_name": "Python 2",
   "language": "python",
   "name": "python2"
  },
  "language_info": {
   "codemirror_mode": {
    "name": "ipython",
    "version": 2
   },
   "file_extension": ".py",
   "mimetype": "text/x-python",
   "name": "python",
   "nbconvert_exporter": "python",
   "pygments_lexer": "ipython2",
   "version": "2.7.11"
  }
 },
 "nbformat": 4,
 "nbformat_minor": 0
}
