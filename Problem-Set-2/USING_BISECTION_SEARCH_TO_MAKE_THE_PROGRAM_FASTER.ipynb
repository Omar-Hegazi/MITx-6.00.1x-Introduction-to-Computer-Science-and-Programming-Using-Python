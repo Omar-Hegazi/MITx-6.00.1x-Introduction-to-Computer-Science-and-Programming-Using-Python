{
 "cells": [
  {
   "cell_type": "code",
   "execution_count": null,
   "metadata": {
    "collapsed": true
   },
   "outputs": [],
   "source": [
    "from __future__ import division\n",
    "mjKamStopa = annualInterestRate / 12\n",
    "donjaGr = balance /12\n",
    "gornjaGr = (balance*(1+mjKamStopa)**12)/12\n",
    "zaPlat = (donjaGr+gornjaGr) / 2\n",
    "while True:\n",
    "    nePlacBal = balance\n",
    "    for i in range(12):\n",
    "        nePlacBal -= zaPlat\n",
    "        nePlacBal += mjKamStopa*nePlacBal\n",
    "    if nePlacBal >= -0.01 and nePlacBal <= 0.01:\n",
    "        break\n",
    "    if nePlacBal > 0:\n",
    "        donjaGr = zaPlat\n",
    "    if nePlacBal < 0:\n",
    "        gornjaGr = zaPlat\n",
    "    zaPlat = (donjaGr+gornjaGr)/2\n",
    "print \"Lowest Payment\", round(zaPlat, 2)"
   ]
  }
 ],
 "metadata": {
  "kernelspec": {
   "display_name": "Python 2",
   "language": "python",
   "name": "python2"
  },
  "language_info": {
   "codemirror_mode": {
    "name": "ipython",
    "version": 2
   },
   "file_extension": ".py",
   "mimetype": "text/x-python",
   "name": "python",
   "nbconvert_exporter": "python",
   "pygments_lexer": "ipython2",
   "version": "2.7.10"
  }
 },
 "nbformat": 4,
 "nbformat_minor": 0
}
