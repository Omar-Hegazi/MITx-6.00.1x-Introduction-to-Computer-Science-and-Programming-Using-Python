{
 "cells": [
  {
   "cell_type": "code",
   "execution_count": null,
   "metadata": {
    "collapsed": true
   },
   "outputs": [],
   "source": [
    "from __future__ import division\n",
    "mjKamSt = annualInterestRate / 12\n",
    "unpaBal = balance\n",
    "ukupnoPlac = 0\n",
    "\n",
    "for i in range(12):\n",
    "    print \"Month:\", i+1\n",
    "    minPlac = unpaBal*monthlyPaymentRate\n",
    "    ukupnoPlac += minPlac\n",
    "    unpaBal -= minPlac\n",
    "    unpaBal += unpaBal * mjKamSt\n",
    "    print \"Minimum monthly payment:\", round(minPlac, 2)\n",
    "    print \"Remaining balance:\", round(unpaBal, 2) \n",
    "print \"Total paid\", round(ukupnoPlac,2)\n",
    "print \"Remaining balance\", round(unpaBal,2)"
   ]
  }
 ],
 "metadata": {
  "kernelspec": {
   "display_name": "Python 2",
   "language": "python",
   "name": "python2"
  },
  "language_info": {
   "codemirror_mode": {
    "name": "ipython",
    "version": 2
   },
   "file_extension": ".py",
   "mimetype": "text/x-python",
   "name": "python",
   "nbconvert_exporter": "python",
   "pygments_lexer": "ipython2",
   "version": "2.7.10"
  }
 },
 "nbformat": 4,
 "nbformat_minor": 0
}
