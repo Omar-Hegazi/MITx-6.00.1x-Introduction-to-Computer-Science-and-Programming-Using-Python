{
 "cells": [
  {
   "cell_type": "code",
   "execution_count": null,
   "metadata": {
    "collapsed": true
   },
   "outputs": [],
   "source": [
    "from __future__ import division\n",
    "mjKamStopa = annualInterestRate / 12\n",
    "mjPlac = 0\n",
    "while True:\n",
    "    unpBal = balance\n",
    "    mjPlac += 10\n",
    "    for i in range(12):\n",
    "        unpBal -= mjPlac\n",
    "        unpBal += unpBal*mjKamStopa\n",
    "    if unpBal < 0.001:\n",
    "        break\n",
    "print \"Lowest Payment\", mjPlac"
   ]
  }
 ],
 "metadata": {
  "kernelspec": {
   "display_name": "Python 2",
   "language": "python",
   "name": "python2"
  },
  "language_info": {
   "codemirror_mode": {
    "name": "ipython",
    "version": 2
   },
   "file_extension": ".py",
   "mimetype": "text/x-python",
   "name": "python",
   "nbconvert_exporter": "python",
   "pygments_lexer": "ipython2",
   "version": "2.7.11"
  }
 },
 "nbformat": 4,
 "nbformat_minor": 0
}
