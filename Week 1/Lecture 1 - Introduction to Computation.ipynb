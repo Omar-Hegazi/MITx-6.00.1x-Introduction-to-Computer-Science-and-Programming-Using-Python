{
 "cells": [
  {
   "cell_type": "markdown",
   "metadata": {},
   "source": [
    "1. What is the difference between an Algorithm and a Program?\n",
    "    - An algorithm is a conceptual idea, a program is a concrete instantiation of an algorithm.\n",
    "2. True or False? A computational mode of thinking means that everything can be viewed as a math problem involving numbers and formulas.\n",
    "    - True\n",
    "3. True or False? Computer Science is the study of how to build efficient machines that run programs.\n",
    "    - False\n",
    "4. The two things every computer can do are:\n",
    "    - Perform calculations\n",
    "    - Remember the results\n",
    "5. Declarative knowledge refers to statements of fact.\n",
    "    - True\n",
    "6. Imperative knowledge refers to 'how to' methods.\n",
    "    - True\n",
    "7. The recipe for deducing square root cannot be made into a real computer program because computers cannot guess a starting value for y (there are many ways, and not one clear way for which a computer can generate a starting number).\n",
    "    - True\n",
    "8. True or False? A stored program computer is designed to compute precisely one computation, such as a square root, or the trajectory of a missile.\n",
    "    - False\n",
    "9. True or False? A fixed program computer is designed to run any computation, by interpreting a sequence of program instructions that are read into it.\n",
    "    - False\n",
    "10. A program counter\n",
    "    - points the computer to the next instruction to execute in the program.\n",
    "11. What does it mean when we say that \"the computer walks through the sequence executing some computation\"?\n",
    "    - The computer executes the instructions mostly in a linear sequence, except sometimes it jumps to a different place in the sequence. \n",
    "12. True or False? In order to compute everything that is computable, every computer must be able to handle the sixteen most primitive operations.\n",
    "    - False\n",
    "13. Determines whether a string is legal\n",
    "    - Syntax\n",
    "14. Determines whether a string has meaning\n",
    "    - Static semantics\n",
    "15. Assigns a meaning to a legal sentence\n",
    "    - Semantics"
   ]
  }
 ],
 "metadata": {
  "kernelspec": {
   "display_name": "Python 2",
   "language": "python",
   "name": "python2"
  },
  "language_info": {
   "codemirror_mode": {
    "name": "ipython",
    "version": 2
   },
   "file_extension": ".py",
   "mimetype": "text/x-python",
   "name": "python",
   "nbconvert_exporter": "python",
   "pygments_lexer": "ipython2",
   "version": "2.7.11"
  }
 },
 "nbformat": 4,
 "nbformat_minor": 0
}
